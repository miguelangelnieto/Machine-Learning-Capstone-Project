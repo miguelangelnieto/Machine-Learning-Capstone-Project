{
 "cells": [
  {
   "cell_type": "code",
   "execution_count": 14,
   "metadata": {
    "collapsed": false
   },
   "outputs": [],
   "source": [
    "# Load libraries\n",
    "import pandas as pd\n",
    "import numpy as np\n",
    "import matplotlib.pyplot as plt\n",
    "from __future__ import print_function\n",
    "\n",
    "from sklearn.linear_model import LogisticRegression\n",
    "from sklearn import tree\n",
    "from sklearn import svm\n",
    "from sklearn.naive_bayes import GaussianNB\n",
    "from sklearn.ensemble import RandomForestClassifier\n",
    "from sklearn.ensemble import AdaBoostClassifier\n",
    "from sklearn.model_selection import GridSearchCV\n",
    "from sklearn.model_selection import cross_val_score\n",
    "from sklearn.ensemble import BaggingClassifier\n",
    "from sklearn.model_selection import train_test_split\n",
    "from sklearn.linear_model import RidgeClassifier\n",
    "from sklearn.neighbors import KNeighborsClassifier\n",
    "from sklearn.model_selection import KFold\n",
    "\n",
    "import warnings\n",
    "warnings.filterwarnings('ignore')"
   ]
  },
  {
   "cell_type": "code",
   "execution_count": 15,
   "metadata": {
    "collapsed": false
   },
   "outputs": [],
   "source": [
    "# Restore the dataframe from the analysis phase\n",
    "features = pd.read_pickle(\"features.pkl\")\n",
    "labels = pd.read_pickle(\"labels.pkl\")"
   ]
  },
  {
   "cell_type": "code",
   "execution_count": 16,
   "metadata": {
    "collapsed": true
   },
   "outputs": [],
   "source": [
    "# split data in training/test\n",
    "X_train, X_test, y_train, y_test = train_test_split(features, labels,random_state=50, test_size=0.20)"
   ]
  },
  {
   "cell_type": "code",
   "execution_count": 17,
   "metadata": {
    "collapsed": true
   },
   "outputs": [],
   "source": [
    "# Test a bunch of models. If NL is false, Neural Networks are not tested (they are pretty slow)\n",
    "def lets_try():\n",
    "    results={}\n",
    "    def test_model(clf):\n",
    "        clf.fit(X_train,y_train)\n",
    "        \n",
    "        cv = KFold(n_splits=5)\n",
    "        kfold_accu = cross_val_score(clf, X_train, y_train, cv=cv)\n",
    "        scores=[kfold_accu.mean()]\n",
    "        return scores\n",
    "\n",
    "    # Simple Decision Tree\n",
    "    clf = tree.DecisionTreeClassifier()\n",
    "    results[\"Decision Tree\"]=test_model(clf)\n",
    "    # Logistic Regression\n",
    "    clf = LogisticRegression()\n",
    "    results[\"Logistic Regression\"]=test_model(clf)\n",
    "    # SVM Linear\n",
    "    clf = svm.LinearSVC()\n",
    "    results[\"Linear SVM\"]=test_model(clf)\n",
    "    # SVM RBF\n",
    "    clf = svm.SVC()\n",
    "    results[\"RBF SVM\"]=test_model(clf)\n",
    "    # Random Forest\n",
    "    clf=RandomForestClassifier()\n",
    "    results[\"Random Forest\"]=test_model(clf)\n",
    "    # AdaBoost with Decision Trees\n",
    "    clf=AdaBoostClassifier()\n",
    "    results[\"AdaBoost\"]=test_model(clf)\n",
    "    # Bagging\n",
    "    clf=BaggingClassifier()\n",
    "    results[\"Bagging\"]=test_model(clf)\n",
    "    # Ridge\n",
    "    clf=RidgeClassifier()\n",
    "    results[\"Ridge\"]=test_model(clf)\n",
    "    # \n",
    "    clf=KNeighborsClassifier()\n",
    "    results[\"KNeighbors\"]=test_model(clf)\n",
    "    \n",
    "    results = pd.DataFrame.from_dict(results,orient='index')\n",
    "    results.columns=[\"Accuracy\"] \n",
    "    results=results.sort(columns=[\"Accuracy\"],ascending=False)\n",
    "    results.plot(kind=\"bar\",title=\"Model Scores\",figsize=(14,7))\n",
    "    axes = plt.gca()\n",
    "    axes.set_ylim([0,0.7])\n",
    "    print(results)\n",
    "    return plt"
   ]
  },
  {
   "cell_type": "code",
   "execution_count": 18,
   "metadata": {
    "collapsed": false
   },
   "outputs": [
    {
     "name": "stdout",
     "output_type": "stream",
     "text": [
      "                     Accuracy\n",
      "Bagging              0.649488\n",
      "RBF SVM              0.642332\n",
      "Random Forest        0.642052\n",
      "Logistic Regression  0.632512\n",
      "Linear SVM           0.631857\n",
      "Ridge                0.629846\n",
      "AdaBoost             0.628911\n",
      "KNeighbors           0.610579\n",
      "Decision Tree        0.585559\n"
     ]
    },
    {
     "data": {
      "image/png": "[encoded data removed]",
      "text/plain": [
       "<matplotlib.figure.Figure at 0x10bb0fe10>"
      ]
     },
     "metadata": {},
     "output_type": "display_data"
    }
   ],
   "source": [
    "lets_try().show()"
   ]
  },
  {
   "cell_type": "code",
   "execution_count": 19,
   "metadata": {
    "collapsed": false
   },
   "outputs": [],
   "source": [
    "cv = KFold(n_splits=5)\n",
    "\n",
    "parameters = {'n_estimators': [50,100,150,200,250,300]}\n",
    "\n",
    "clf = BaggingClassifier()\n",
    "grid_obj = GridSearchCV(clf, parameters, cv=cv)\n",
    "grid_fit = grid_obj.fit(X_train, y_train)\n",
    "best_clf = grid_fit.best_estimator_ "
   ]
  },
  {
   "cell_type": "code",
   "execution_count": 20,
   "metadata": {
    "collapsed": false
   },
   "outputs": [
    {
     "data": {
      "text/plain": [
       "BaggingClassifier(base_estimator=None, bootstrap=True,\n",
       "         bootstrap_features=False, max_features=1.0, max_samples=1.0,\n",
       "         n_estimators=300, n_jobs=1, oob_score=False, random_state=None,\n",
       "         verbose=0, warm_start=False)"
      ]
     },
     "execution_count": 20,
     "metadata": {},
     "output_type": "execute_result"
    }
   ],
   "source": [
    "best_clf.fit(X_train,y_train)"
   ]
  },
  {
   "cell_type": "code",
   "execution_count": 21,
   "metadata": {
    "collapsed": false
   },
   "outputs": [
    {
     "data": {
      "text/plain": [
       "0.67545828656939766"
      ]
     },
     "execution_count": 21,
     "metadata": {},
     "output_type": "execute_result"
    }
   ],
   "source": [
    "best_clf.score(X_test,y_test)"
   ]
  },
  {
   "cell_type": "code",
   "execution_count": 22,
   "metadata": {
    "collapsed": false
   },
   "outputs": [],
   "source": [
    "# Test model robustness\n",
    "# Using different random splits\n",
    "num_iters = 10\n",
    "scores = []\n",
    "for i in range(num_iters):\n",
    "    X_train, X_test, y_train, y_test = train_test_split(features, labels,random_state=i, test_size=0.20)\n",
    "    best_clf.fit(X_train,y_train)\n",
    "    scores.append(best_clf.score(X_test,y_test))"
   ]
  },
  {
   "cell_type": "code",
   "execution_count": 23,
   "metadata": {
    "collapsed": false
   },
   "outputs": [
    {
     "name": "stdout",
     "output_type": "stream",
     "text": [
      "[0.67227833894500566, 0.68032173587729139, 0.67471006359895247, 0.67377478488589604, 0.67377478488589604, 0.66236438458660685, 0.68088290310512534, 0.6795735129068462, 0.6835016835016835, 0.67321361765806209]\n"
     ]
    }
   ],
   "source": [
    "print(scores)"
   ]
  },
  {
   "cell_type": "code",
   "execution_count": null,
   "metadata": {
    "collapsed": true
   },
   "outputs": [],
   "source": []
  }
 ],
 "metadata": {
  "kernelspec": {
   "display_name": "Python 2",
   "language": "python",
   "name": "python2"
  },
  "language_info": {
   "codemirror_mode": {
    "name": "ipython",
    "version": 2
   },
   "file_extension": ".py",
   "mimetype": "text/x-python",
   "name": "python",
   "nbconvert_exporter": "python",
   "pygments_lexer": "ipython2",
   "version": "2.7.13"
  }
 },
 "nbformat": 4,
 "nbformat_minor": 2
}
