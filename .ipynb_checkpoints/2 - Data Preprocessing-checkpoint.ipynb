{
 "cells": [
  {
   "cell_type": "code",
   "execution_count": 1,
   "metadata": {
    "collapsed": false
   },
   "outputs": [],
   "source": [
    "# Some of the data preprocessing has been already done during the data exploration.\n",
    "\n",
    "# Load libraries\n",
    "import pandas as pd\n",
    "import numpy as np\n",
    "import matplotlib.pyplot as plt\n",
    "from __future__ import print_function\n",
    "from sklearn import preprocessing\n",
    "import warnings\n",
    "warnings.filterwarnings('ignore')"
   ]
  },
  {
   "cell_type": "code",
   "execution_count": 2,
   "metadata": {
    "collapsed": false
   },
   "outputs": [
    {
     "data": {
      "text/html": [
       "<div>\n",
       "<table border=\"1\" class=\"dataframe\">\n",
       "  <thead>\n",
       "    <tr style=\"text-align: right;\">\n",
       "      <th></th>\n",
       "      <th>AnimalID</th>\n",
       "      <th>Name</th>\n",
       "      <th>DateTime</th>\n",
       "      <th>OutcomeType</th>\n",
       "      <th>OutcomeSubtype</th>\n",
       "      <th>AnimalType</th>\n",
       "      <th>SexuponOutcome</th>\n",
       "      <th>AgeuponOutcome</th>\n",
       "      <th>Breed</th>\n",
       "      <th>Color</th>\n",
       "      <th>Year</th>\n",
       "      <th>Month</th>\n",
       "      <th>DayoftheWeek</th>\n",
       "      <th>Hour</th>\n",
       "      <th>Date</th>\n",
       "      <th>AgeDaysuponOutcome</th>\n",
       "      <th>LargeBreed</th>\n",
       "      <th>BasicColor</th>\n",
       "    </tr>\n",
       "  </thead>\n",
       "  <tbody>\n",
       "    <tr>\n",
       "      <th>0</th>\n",
       "      <td>A671945</td>\n",
       "      <td>Hambone</td>\n",
       "      <td>2014-02-12 18:22:00</td>\n",
       "      <td>Return_to_owner</td>\n",
       "      <td>NaN</td>\n",
       "      <td>Dog</td>\n",
       "      <td>Neutered Male</td>\n",
       "      <td>1 years</td>\n",
       "      <td>Shetland Sheepdog Mix</td>\n",
       "      <td>Brown/White</td>\n",
       "      <td>2014</td>\n",
       "      <td>2</td>\n",
       "      <td>2</td>\n",
       "      <td>18</td>\n",
       "      <td>2014-02-12</td>\n",
       "      <td>365</td>\n",
       "      <td>Shetland Sheepdog</td>\n",
       "      <td>Brown</td>\n",
       "    </tr>\n",
       "    <tr>\n",
       "      <th>1</th>\n",
       "      <td>A656520</td>\n",
       "      <td>Emily</td>\n",
       "      <td>2013-10-13 12:44:00</td>\n",
       "      <td>Euthanasia</td>\n",
       "      <td>Suffering</td>\n",
       "      <td>Cat</td>\n",
       "      <td>Spayed Female</td>\n",
       "      <td>1 years</td>\n",
       "      <td>Domestic Shorthair Mix</td>\n",
       "      <td>Cream Tabby</td>\n",
       "      <td>2013</td>\n",
       "      <td>10</td>\n",
       "      <td>6</td>\n",
       "      <td>12</td>\n",
       "      <td>2013-10-13</td>\n",
       "      <td>365</td>\n",
       "      <td>Domestic</td>\n",
       "      <td>Cream</td>\n",
       "    </tr>\n",
       "  </tbody>\n",
       "</table>\n",
       "</div>"
      ],
      "text/plain": [
       "  AnimalID     Name             DateTime      OutcomeType OutcomeSubtype  \\\n",
       "0  A671945  Hambone  2014-02-12 18:22:00  Return_to_owner            NaN   \n",
       "1  A656520    Emily  2013-10-13 12:44:00       Euthanasia      Suffering   \n",
       "\n",
       "  AnimalType SexuponOutcome AgeuponOutcome                   Breed  \\\n",
       "0        Dog  Neutered Male        1 years   Shetland Sheepdog Mix   \n",
       "1        Cat  Spayed Female        1 years  Domestic Shorthair Mix   \n",
       "\n",
       "         Color  Year  Month  DayoftheWeek  Hour        Date  \\\n",
       "0  Brown/White  2014      2             2    18  2014-02-12   \n",
       "1  Cream Tabby  2013     10             6    12  2013-10-13   \n",
       "\n",
       "   AgeDaysuponOutcome         LargeBreed BasicColor  \n",
       "0                 365  Shetland Sheepdog      Brown  \n",
       "1                 365           Domestic      Cream  "
      ]
     },
     "execution_count": 2,
     "metadata": {},
     "output_type": "execute_result"
    }
   ],
   "source": [
    "# Restore the dataframe from the analysis phase\n",
    "data = pd.read_pickle(\"data_after_first_step.pkl\")\n",
    "data.head(2)"
   ]
  },
  {
   "cell_type": "code",
   "execution_count": 3,
   "metadata": {
    "collapsed": true
   },
   "outputs": [],
   "source": [
    "# Store label in its own variable\n",
    "labels = data[\"OutcomeType\"]"
   ]
  },
  {
   "cell_type": "code",
   "execution_count": 4,
   "metadata": {
    "collapsed": false
   },
   "outputs": [],
   "source": [
    "# Encode the label\n",
    "le = preprocessing.LabelEncoder()\n",
    "le.fit(labels)\n",
    "labels = le.transform(labels)\n",
    "labels = pd.DataFrame(labels)"
   ]
  },
  {
   "cell_type": "code",
   "execution_count": 5,
   "metadata": {
    "collapsed": false
   },
   "outputs": [],
   "source": [
    "# Remove following columns:\n",
    "# AnimalID: an unique ID not needed\n",
    "# Breed: LargeBreed will be used insted\n",
    "# AgeuponOutcome: AgeDaysuponOutcome will be used instead \n",
    "# DateTime: Year, Month and day of the week will be used instead\n",
    "# Date: was only used for forecasting. Not needed anymore\n",
    "# Color: BasicColor will be used instead.\n",
    "# OutcomeSubType: can leak information to our prediction model.\n",
    "# OutcomeType: it is the label to predict.\n",
    "data.drop([\"AnimalID\",\"OutcomeType\",\"Breed\",\"AgeuponOutcome\",\"DateTime\",\"Date\",\"Color\",\"OutcomeSubtype\"],inplace=True,axis=1)"
   ]
  },
  {
   "cell_type": "code",
   "execution_count": 6,
   "metadata": {
    "collapsed": false
   },
   "outputs": [
    {
     "data": {
      "text/html": [
       "<div>\n",
       "<table border=\"1\" class=\"dataframe\">\n",
       "  <thead>\n",
       "    <tr style=\"text-align: right;\">\n",
       "      <th></th>\n",
       "      <th>Name</th>\n",
       "      <th>AnimalType</th>\n",
       "      <th>SexuponOutcome</th>\n",
       "      <th>Year</th>\n",
       "      <th>Month</th>\n",
       "      <th>DayoftheWeek</th>\n",
       "      <th>Hour</th>\n",
       "      <th>AgeDaysuponOutcome</th>\n",
       "      <th>LargeBreed</th>\n",
       "      <th>BasicColor</th>\n",
       "    </tr>\n",
       "  </thead>\n",
       "  <tbody>\n",
       "    <tr>\n",
       "      <th>0</th>\n",
       "      <td>Hambone</td>\n",
       "      <td>Dog</td>\n",
       "      <td>Neutered Male</td>\n",
       "      <td>2014</td>\n",
       "      <td>2</td>\n",
       "      <td>2</td>\n",
       "      <td>18</td>\n",
       "      <td>365</td>\n",
       "      <td>Shetland Sheepdog</td>\n",
       "      <td>Brown</td>\n",
       "    </tr>\n",
       "    <tr>\n",
       "      <th>1</th>\n",
       "      <td>Emily</td>\n",
       "      <td>Cat</td>\n",
       "      <td>Spayed Female</td>\n",
       "      <td>2013</td>\n",
       "      <td>10</td>\n",
       "      <td>6</td>\n",
       "      <td>12</td>\n",
       "      <td>365</td>\n",
       "      <td>Domestic</td>\n",
       "      <td>Cream</td>\n",
       "    </tr>\n",
       "    <tr>\n",
       "      <th>2</th>\n",
       "      <td>Pearce</td>\n",
       "      <td>Dog</td>\n",
       "      <td>Neutered Male</td>\n",
       "      <td>2015</td>\n",
       "      <td>1</td>\n",
       "      <td>5</td>\n",
       "      <td>12</td>\n",
       "      <td>730</td>\n",
       "      <td>Pit Bull</td>\n",
       "      <td>Blue</td>\n",
       "    </tr>\n",
       "    <tr>\n",
       "      <th>3</th>\n",
       "      <td>NaN</td>\n",
       "      <td>Cat</td>\n",
       "      <td>Intact Male</td>\n",
       "      <td>2014</td>\n",
       "      <td>7</td>\n",
       "      <td>4</td>\n",
       "      <td>19</td>\n",
       "      <td>21</td>\n",
       "      <td>Domestic</td>\n",
       "      <td>Blue</td>\n",
       "    </tr>\n",
       "    <tr>\n",
       "      <th>4</th>\n",
       "      <td>NaN</td>\n",
       "      <td>Dog</td>\n",
       "      <td>Neutered Male</td>\n",
       "      <td>2013</td>\n",
       "      <td>11</td>\n",
       "      <td>4</td>\n",
       "      <td>12</td>\n",
       "      <td>730</td>\n",
       "      <td>Lhasa Apso</td>\n",
       "      <td>Tan</td>\n",
       "    </tr>\n",
       "  </tbody>\n",
       "</table>\n",
       "</div>"
      ],
      "text/plain": [
       "      Name AnimalType SexuponOutcome  Year  Month  DayoftheWeek  Hour  \\\n",
       "0  Hambone        Dog  Neutered Male  2014      2             2    18   \n",
       "1    Emily        Cat  Spayed Female  2013     10             6    12   \n",
       "2   Pearce        Dog  Neutered Male  2015      1             5    12   \n",
       "3      NaN        Cat    Intact Male  2014      7             4    19   \n",
       "4      NaN        Dog  Neutered Male  2013     11             4    12   \n",
       "\n",
       "   AgeDaysuponOutcome         LargeBreed BasicColor  \n",
       "0                 365  Shetland Sheepdog      Brown  \n",
       "1                 365           Domestic      Cream  \n",
       "2                 730           Pit Bull       Blue  \n",
       "3                  21           Domestic       Blue  \n",
       "4                 730         Lhasa Apso        Tan  "
      ]
     },
     "execution_count": 6,
     "metadata": {},
     "output_type": "execute_result"
    }
   ],
   "source": [
    "data.head()"
   ]
  },
  {
   "cell_type": "code",
   "execution_count": 7,
   "metadata": {
    "collapsed": false
   },
   "outputs": [
    {
     "data": {
      "text/plain": [
       "Name                  7691\n",
       "AnimalType               0\n",
       "SexuponOutcome           1\n",
       "Year                     0\n",
       "Month                    0\n",
       "DayoftheWeek             0\n",
       "Hour                     0\n",
       "AgeDaysuponOutcome       0\n",
       "LargeBreed               0\n",
       "BasicColor               0\n",
       "dtype: int64"
      ]
     },
     "execution_count": 7,
     "metadata": {},
     "output_type": "execute_result"
    }
   ],
   "source": [
    "pd.isnull(data).sum()"
   ]
  },
  {
   "cell_type": "code",
   "execution_count": 8,
   "metadata": {
    "collapsed": false
   },
   "outputs": [
    {
     "data": {
      "text/html": [
       "<div>\n",
       "<table border=\"1\" class=\"dataframe\">\n",
       "  <thead>\n",
       "    <tr style=\"text-align: right;\">\n",
       "      <th></th>\n",
       "      <th>Name</th>\n",
       "      <th>AnimalType</th>\n",
       "      <th>SexuponOutcome</th>\n",
       "      <th>Year</th>\n",
       "      <th>Month</th>\n",
       "      <th>DayoftheWeek</th>\n",
       "      <th>Hour</th>\n",
       "      <th>AgeDaysuponOutcome</th>\n",
       "      <th>LargeBreed</th>\n",
       "      <th>BasicColor</th>\n",
       "    </tr>\n",
       "  </thead>\n",
       "  <tbody>\n",
       "    <tr>\n",
       "      <th>3174</th>\n",
       "      <td>Diego</td>\n",
       "      <td>Dog</td>\n",
       "      <td>NaN</td>\n",
       "      <td>2013</td>\n",
       "      <td>11</td>\n",
       "      <td>2</td>\n",
       "      <td>16</td>\n",
       "      <td>2555</td>\n",
       "      <td>Dachshund</td>\n",
       "      <td>Brown</td>\n",
       "    </tr>\n",
       "  </tbody>\n",
       "</table>\n",
       "</div>"
      ],
      "text/plain": [
       "       Name AnimalType SexuponOutcome  Year  Month  DayoftheWeek  Hour  \\\n",
       "3174  Diego        Dog            NaN  2013     11             2    16   \n",
       "\n",
       "      AgeDaysuponOutcome LargeBreed BasicColor  \n",
       "3174                2555  Dachshund      Brown  "
      ]
     },
     "execution_count": 8,
     "metadata": {},
     "output_type": "execute_result"
    }
   ],
   "source": [
    "# Sex has one NaN\n",
    "data[data[\"SexuponOutcome\"].isnull()]"
   ]
  },
  {
   "cell_type": "code",
   "execution_count": 9,
   "metadata": {
    "collapsed": false
   },
   "outputs": [
    {
     "data": {
      "text/plain": [
       "Name                          Diego\n",
       "AnimalType                      Dog\n",
       "SexuponOutcome        Neutered Male\n",
       "Year                           2013\n",
       "Month                            11\n",
       "DayoftheWeek                      2\n",
       "Hour                             16\n",
       "AgeDaysuponOutcome             2555\n",
       "LargeBreed                Dachshund\n",
       "BasicColor                    Brown\n",
       "Name: 3174, dtype: object"
      ]
     },
     "execution_count": 9,
     "metadata": {},
     "output_type": "execute_result"
    }
   ],
   "source": [
    "# It's name is diego, it is 7 years old. So I am going to change its sex to the most possible one, Neutered Male\n",
    "data['SexuponOutcome'].iloc[3174] = \"Neutered Male\"\n",
    "data.iloc[3174]"
   ]
  },
  {
   "cell_type": "code",
   "execution_count": 10,
   "metadata": {
    "collapsed": false
   },
   "outputs": [],
   "source": [
    "# Name\n",
    "# Change NaN to \"NoName\"\n",
    "data[\"Name\"] = data[\"Name\"].fillna(\"NoName\")\n",
    "# Encode as integers\n",
    "def intenger_encode(feature):\n",
    "    le.fit(data[feature])\n",
    "    return le.transform(data[feature])\n",
    "data[\"Name\"] = intenger_encode(\"Name\")"
   ]
  },
  {
   "cell_type": "code",
   "execution_count": 11,
   "metadata": {
    "collapsed": false
   },
   "outputs": [],
   "source": [
    "# Convert categorical features with one hot encoding\n",
    "list = [\"AnimalType\", \"SexuponOutcome\",\"Year\",\"Month\",\"DayoftheWeek\"]\n",
    "data = pd.get_dummies(data,columns=list)"
   ]
  },
  {
   "cell_type": "code",
   "execution_count": 12,
   "metadata": {
    "collapsed": false
   },
   "outputs": [],
   "source": [
    "# There are many BasicColor and LargeBreed, so doing one hot encoding on them could lead to \n",
    "# curse of dimensionality problems. Those are going to be converted to integers and then just normalized.\n",
    "data[\"LargeBreed\"] = intenger_encode(\"LargeBreed\")\n",
    "data[\"BasicColor\"] = intenger_encode(\"BasicColor\")"
   ]
  },
  {
   "cell_type": "code",
   "execution_count": 13,
   "metadata": {
    "collapsed": true
   },
   "outputs": [],
   "source": [
    "# Finally, normalize integer features\n",
    "def normalize_feature(feature):\n",
    "    nee = preprocessing.StandardScaler()\n",
    "    nee.fit(data[feature])\n",
    "    return nee.fit_transform(data[feature])\n",
    "\n",
    "data[\"LargeBreed\"] = normalize_feature(\"LargeBreed\")\n",
    "data[\"BasicColor\"] = normalize_feature(\"BasicColor\")\n",
    "data[\"Name\"] = normalize_feature(\"Name\")\n",
    "data[\"AgeDaysuponOutcome\"] = normalize_feature(\"AgeDaysuponOutcome\")\n",
    "data[\"Hour\"] = normalize_feature(\"Hour\")"
   ]
  },
  {
   "cell_type": "code",
   "execution_count": 14,
   "metadata": {
    "collapsed": false
   },
   "outputs": [
    {
     "data": {
      "text/html": [
       "<div>\n",
       "<table border=\"1\" class=\"dataframe\">\n",
       "  <thead>\n",
       "    <tr style=\"text-align: right;\">\n",
       "      <th></th>\n",
       "      <th>Name</th>\n",
       "      <th>Hour</th>\n",
       "      <th>AgeDaysuponOutcome</th>\n",
       "      <th>LargeBreed</th>\n",
       "      <th>BasicColor</th>\n",
       "      <th>AnimalType_Cat</th>\n",
       "      <th>AnimalType_Dog</th>\n",
       "      <th>SexuponOutcome_Intact Female</th>\n",
       "      <th>SexuponOutcome_Intact Male</th>\n",
       "      <th>SexuponOutcome_Neutered Male</th>\n",
       "      <th>...</th>\n",
       "      <th>Month_10</th>\n",
       "      <th>Month_11</th>\n",
       "      <th>Month_12</th>\n",
       "      <th>DayoftheWeek_0</th>\n",
       "      <th>DayoftheWeek_1</th>\n",
       "      <th>DayoftheWeek_2</th>\n",
       "      <th>DayoftheWeek_3</th>\n",
       "      <th>DayoftheWeek_4</th>\n",
       "      <th>DayoftheWeek_5</th>\n",
       "      <th>DayoftheWeek_6</th>\n",
       "    </tr>\n",
       "  </thead>\n",
       "  <tbody>\n",
       "    <tr>\n",
       "      <th>0</th>\n",
       "      <td>-0.695432</td>\n",
       "      <td>1.065124</td>\n",
       "      <td>-0.397404</td>\n",
       "      <td>1.905664</td>\n",
       "      <td>-0.704667</td>\n",
       "      <td>0</td>\n",
       "      <td>1</td>\n",
       "      <td>0</td>\n",
       "      <td>0</td>\n",
       "      <td>1</td>\n",
       "      <td>...</td>\n",
       "      <td>0</td>\n",
       "      <td>0</td>\n",
       "      <td>0</td>\n",
       "      <td>0</td>\n",
       "      <td>0</td>\n",
       "      <td>1</td>\n",
       "      <td>0</td>\n",
       "      <td>0</td>\n",
       "      <td>0</td>\n",
       "      <td>0</td>\n",
       "    </tr>\n",
       "  </tbody>\n",
       "</table>\n",
       "<p>1 rows × 35 columns</p>\n",
       "</div>"
      ],
      "text/plain": [
       "       Name      Hour  AgeDaysuponOutcome  LargeBreed  BasicColor  \\\n",
       "0 -0.695432  1.065124           -0.397404    1.905664   -0.704667   \n",
       "\n",
       "   AnimalType_Cat  AnimalType_Dog  SexuponOutcome_Intact Female  \\\n",
       "0               0               1                             0   \n",
       "\n",
       "   SexuponOutcome_Intact Male  SexuponOutcome_Neutered Male       ...        \\\n",
       "0                           0                             1       ...         \n",
       "\n",
       "   Month_10  Month_11  Month_12  DayoftheWeek_0  DayoftheWeek_1  \\\n",
       "0         0         0         0               0               0   \n",
       "\n",
       "   DayoftheWeek_2  DayoftheWeek_3  DayoftheWeek_4  DayoftheWeek_5  \\\n",
       "0               1               0               0               0   \n",
       "\n",
       "   DayoftheWeek_6  \n",
       "0               0  \n",
       "\n",
       "[1 rows x 35 columns]"
      ]
     },
     "execution_count": 14,
     "metadata": {},
     "output_type": "execute_result"
    }
   ],
   "source": [
    "data.head(1)"
   ]
  },
  {
   "cell_type": "code",
   "execution_count": 15,
   "metadata": {
    "collapsed": false
   },
   "outputs": [],
   "source": [
    "# Save\n",
    "# Save DataFrame state to disk\n",
    "data.to_pickle(\"features.pkl\")\n",
    "labels.to_pickle(\"labels.pkl\")"
   ]
  }
 ],
 "metadata": {
  "kernelspec": {
   "display_name": "Python 2",
   "language": "python",
   "name": "python2"
  },
  "language_info": {
   "codemirror_mode": {
    "name": "ipython",
    "version": 2
   },
   "file_extension": ".py",
   "mimetype": "text/x-python",
   "name": "python",
   "nbconvert_exporter": "python",
   "pygments_lexer": "ipython2",
   "version": "2.7.13"
  }
 },
 "nbformat": 4,
 "nbformat_minor": 2
}
